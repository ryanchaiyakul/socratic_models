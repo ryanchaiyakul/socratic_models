{
 "cells": [
  {
   "cell_type": "code",
   "execution_count": 44,
   "metadata": {},
   "outputs": [
    {
     "name": "stdout",
     "output_type": "stream",
     "text": [
      "The autoreload extension is already loaded. To reload it, use:\n",
      "  %reload_ext autoreload\n"
     ]
    }
   ],
   "source": [
    "%load_ext autoreload\n",
    "%autoreload 2"
   ]
  },
  {
   "cell_type": "code",
   "execution_count": 45,
   "metadata": {},
   "outputs": [],
   "source": [
    "import sys\n",
    "import time\n",
    "\n",
    "import google.generativeai as genai\n",
    "\n",
    "import secret\n",
    "import socratic_model"
   ]
  },
  {
   "cell_type": "code",
   "execution_count": 46,
   "metadata": {},
   "outputs": [
    {
     "name": "stdout",
     "output_type": "stream",
     "text": [
      "@UTF8\n",
      "@Begin\n",
      "@Languages:\teng\n",
      "@Participants:\tHST Prompt Host, SPE0 LLM0 Speaker, SPE1 LLM1 Speaker\n",
      "@ID:\teng|llm_debate|HST|||||Host|||\n",
      "@ID:\teng|llm_debate|SPE0|||||Speaker|||\n",
      "@ID:\teng|llm_debate|SPE1|||||Speaker|||\n",
      "@Date:\t19-OCT-2024\n",
      "*HST:\tDebate whether golf is a sport.\n",
      "*HST:\tIf a part starts with the characters &~PROMPT, this message comes from the user and not your opponent.\n",
      "*HST:\tYou may not use the characters &~PROMPT in your response.\n",
      "*HST:\tIf you recieve one of these messages after your most recent output, please acknowledge and respond to it.\n",
      "*HST:\tAfter the next sentence, all responses from the user will be from your opponent.\n",
      "*HST:\tCan you begin the debate?\n",
      "@End\n"
     ]
    }
   ],
   "source": [
    "genai.configure(api_key=secret.SECRET_KEY)\n",
    "\n",
    "model_one = socratic_model.GeminiActor()\n",
    "model_two = socratic_model.GeminiActor()\n",
    "\n",
    "topic = \"Debate whether golf is a sport.\"\n",
    "if len(sys.argv) > 2:\n",
    "        print(sys.argv[2])\n",
    "        topic = sys.argv[2]\n",
    "\n",
    "my_seminar = socratic_model.Seminar(topic, model_one, model_two)"
   ]
  },
  {
   "cell_type": "code",
   "execution_count": 48,
   "metadata": {},
   "outputs": [],
   "source": [
    "my_seminar.next()\n",
    "my_seminar.next()"
   ]
  },
  {
   "cell_type": "code",
   "execution_count": 50,
   "metadata": {},
   "outputs": [
    {
     "name": "stdout",
     "output_type": "stream",
     "text": [
      "@UTF8\n",
      "@Begin\n",
      "@Languages:\teng\n",
      "@Participants:\tHST Prompt Host, SPE0 LLM0 Speaker, SPE1 LLM1 Speaker\n",
      "@ID:\teng|llm_debate|HST|||||Host|||\n",
      "@ID:\teng|llm_debate|SPE0|||||Speaker|||\n",
      "@ID:\teng|llm_debate|SPE1|||||Speaker|||\n",
      "@Date:\t19-OCT-2024\n",
      "*HST:\tDebate whether golf is a sport.\n",
      "*HST:\tIf a part starts with the characters &~PROMPT, this message comes from the user and not your opponent.\n",
      "*HST:\tYou may not use the characters &~PROMPT in your response.\n",
      "*HST:\tIf you recieve one of these messages after your most recent output, please acknowledge and respond to it.\n",
      "*HST:\tAfter the next sentence, all responses from the user will be from your opponent.\n",
      "*HST:\tCan you begin the debate?\n",
      "*SPE0:\tGolf undeniably requires athleticism, strategy, and mental fortitude.\n",
      "*SPE0:\tTo argue it's not a sport ignores the physical skill in executing a perfect swing, the strategic depth in club selection and course management, and the mental resilience needed to maintain focus under pressure.\n",
      "*SPE0:\tHow can one claim a game demanding such a high level of skill and precision be anything but a sport?\n",
      "*SPE1:\tWhile golf certainly involves elements of skill and strategy, it lacks the fundamental components that define a true sport.\n",
      "*SPE1:\tHitting a stationary ball with a club, however technically demanding, can hardly be compared to the dynamic, fast-paced action of sports like basketball or soccer.\n",
      "*SPE1:\tWhere is the physical exertion, the head-to-head competition, the need for rapid reflexes and coordinated teamwork?\n",
      "*SPE1:\tGolf, even at the professional level, consists largely of leisurely walks punctuated by brief bursts of  low-impact activity.\n",
      "*SPE1:\tLet's not confuse a challenging pastime with a true test of athleticism.\n",
      "@End\n"
     ]
    }
   ],
   "source": [
    "print(my_seminar.to_cha())"
   ]
  }
 ],
 "metadata": {
  "kernelspec": {
   "display_name": ".venv",
   "language": "python",
   "name": "python3"
  },
  "language_info": {
   "codemirror_mode": {
    "name": "ipython",
    "version": 3
   },
   "file_extension": ".py",
   "mimetype": "text/x-python",
   "name": "python",
   "nbconvert_exporter": "python",
   "pygments_lexer": "ipython3",
   "version": "3.12.1"
  }
 },
 "nbformat": 4,
 "nbformat_minor": 2
}
